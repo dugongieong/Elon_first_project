{
 "cells": [
  {
   "cell_type": "code",
   "execution_count": null,
   "id": "17efd207-cb00-4dc1-ab75-2f33f7603e68",
   "metadata": {},
   "outputs": [],
   "source": [
    "#create panel\n",
    "pane = pn.panel(Twitter)\n",
    "pane"
   ]
  },
  {
   "cell_type": "code",
   "execution_count": null,
   "id": "291e1015-4028-48d5-8e3c-aeb268f58e11",
   "metadata": {},
   "outputs": [],
   "source": [
    "title = pn.pane.Markdown('''\n",
    "#Title Of the Dashboard\n",
    "''')\n",
    "normal_text = pn.pane.Markdown('''\n",
    "Your text here.\n",
    "'''\n",
    "                              )"
   ]
  },
  {
   "cell_type": "code",
   "execution_count": null,
   "id": "76016d5e-4194-4612-ba2f-cdba76f9ea79",
   "metadata": {},
   "outputs": [],
   "source": [
    "tabs = pn.Tabs(\n",
    "    #First tab\n",
    "    (\"Welcome\", pn.Column(normal_text, correlation_plot()))),\n",
    "\n",
    "    #Second Tab \n",
    "    (\"Doge Coin\", pn.Row(yearly_sectors(),normal_text)),\n",
    "                         \n",
    "    #Third Tab\n",
    "    (\"Bitcoin\", correlation)\n",
    "    \n",
    "    )"
   ]
  },
  {
   "cell_type": "code",
   "execution_count": null,
   "id": "0b8df35d-8ea4-49b8-99b2-080391444ee4",
   "metadata": {},
   "outputs": [],
   "source": [
    "dashboard = pn.Column(pn.Row(title), tabs, width = 1500, height = 768"
   ]
  },
  {
   "cell_type": "code",
   "execution_count": null,
   "id": "1938579a-1e57-49fc-a63f-0d70b20fb67d",
   "metadata": {},
   "outputs": [],
   "source": [
    "dashboard.servable()"
   ]
  },
  {
   "cell_type": "code",
   "execution_count": null,
   "id": "65e3b418-009f-4afe-b8d7-a9f8a62914b7",
   "metadata": {},
   "outputs": [],
   "source": [
    "dashboard.show()"
   ]
  },
  {
   "cell_type": "code",
   "execution_count": null,
   "id": "4ef5c9bf-026c-4655-9a5a-f5ed57f610a2",
   "metadata": {},
   "outputs": [],
   "source": []
  }
 ],
 "metadata": {
  "kernelspec": {
   "display_name": "Python 3 (ipykernel)",
   "language": "python",
   "name": "python3"
  },
  "language_info": {
   "codemirror_mode": {
    "name": "ipython",
    "version": 3
   },
   "file_extension": ".py",
   "mimetype": "text/x-python",
   "name": "python",
   "nbconvert_exporter": "python",
   "pygments_lexer": "ipython3",
   "version": "3.9.7"
  }
 },
 "nbformat": 4,
 "nbformat_minor": 5
}
